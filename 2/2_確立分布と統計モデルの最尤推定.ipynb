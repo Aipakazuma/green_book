{
 "cells": [
  {
   "cell_type": "code",
   "execution_count": 1,
   "metadata": {
    "collapsed": false
   },
   "outputs": [],
   "source": [
    "import pandas as pd\n",
    "import matplotlib.pyplot as plt\n",
    "\n",
    "%matplotlib inline"
   ]
  },
  {
   "cell_type": "code",
   "execution_count": 2,
   "metadata": {
    "collapsed": false
   },
   "outputs": [],
   "source": [
    "# ダウンロードしたR.Data開かんし、よくわからないので、これでデータを作成\n",
    "data= pd.Series([2, 2, 4, 6, 4, 5, 2, 3, 1, 2, 0, 4, 3, 3, 3, 3, 4, 2, 7, 2, 4, 3,3,3, 4, 3, 7, 5, 3, 1, 7, 6, 4, 6, 5, 2, 4, 7,2, 2, 6, 2, 4, 5, 4, 5, 1, 3,2,3])"
   ]
  },
  {
   "cell_type": "code",
   "execution_count": 3,
   "metadata": {
    "collapsed": false
   },
   "outputs": [
    {
     "data": {
      "text/plain": [
       "50"
      ]
     },
     "execution_count": 3,
     "metadata": {},
     "output_type": "execute_result"
    }
   ],
   "source": [
    "len(data)"
   ]
  },
  {
   "cell_type": "code",
   "execution_count": 4,
   "metadata": {
    "collapsed": false
   },
   "outputs": [
    {
     "data": {
      "text/plain": [
       "count    50.00000\n",
       "mean      3.56000\n",
       "std       1.72804\n",
       "min       0.00000\n",
       "25%       2.00000\n",
       "50%       3.00000\n",
       "75%       4.75000\n",
       "max       7.00000\n",
       "dtype: float64"
      ]
     },
     "execution_count": 4,
     "metadata": {},
     "output_type": "execute_result"
    }
   ],
   "source": [
    "data.describe()"
   ]
  },
  {
   "cell_type": "code",
   "execution_count": 5,
   "metadata": {
    "collapsed": false
   },
   "outputs": [
    {
     "data": {
      "text/plain": [
       "0     1\n",
       "1     3\n",
       "2    11\n",
       "3    12\n",
       "4    10\n",
       "5     5\n",
       "6     4\n",
       "7     4\n",
       "dtype: int64"
      ]
     },
     "execution_count": 5,
     "metadata": {},
     "output_type": "execute_result"
    }
   ],
   "source": [
    "# 度数分布\n",
    "_s = pd.value_counts(data).sort_index()\n",
    "_s"
   ]
  },
  {
   "cell_type": "code",
   "execution_count": 6,
   "metadata": {
    "collapsed": false
   },
   "outputs": [
    {
     "data": {
      "text/plain": [
       "<matplotlib.axes._subplots.AxesSubplot at 0x10a0d0550>"
      ]
     },
     "execution_count": 6,
     "metadata": {},
     "output_type": "execute_result"
    },
    {
     "data": {
      "image/png": "[encoded data removed]",
      "text/plain": [
       "<matplotlib.figure.Figure at 0x108f87ac8>"
      ]
     },
     "metadata": {},
     "output_type": "display_data"
    }
   ],
   "source": [
    "data.plot(kind='hist', bins=8, xticks=[0, 2, 4, 6, 8], ec='black', align='mid')"
   ]
  },
  {
   "cell_type": "code",
   "execution_count": 7,
   "metadata": {
    "collapsed": false
   },
   "outputs": [
    {
     "data": {
      "text/plain": [
       "2.986122448979592"
      ]
     },
     "execution_count": 7,
     "metadata": {},
     "output_type": "execute_result"
    }
   ],
   "source": [
    "# 分散\n",
    "data.var()"
   ]
  },
  {
   "cell_type": "code",
   "execution_count": 8,
   "metadata": {
    "collapsed": false
   },
   "outputs": [
    {
     "data": {
      "text/plain": [
       "1.728040060004279"
      ]
     },
     "execution_count": 8,
     "metadata": {},
     "output_type": "execute_result"
    }
   ],
   "source": [
    "# 標準偏差\n",
    "data.std()"
   ]
  },
  {
   "cell_type": "code",
   "execution_count": 9,
   "metadata": {
    "collapsed": false
   },
   "outputs": [
    {
     "data": {
      "text/plain": [
       "1.728040060004279"
      ]
     },
     "execution_count": 9,
     "metadata": {},
     "output_type": "execute_result"
    }
   ],
   "source": [
    "# 分散の平方根 -> 標準偏差\n",
    "import math\n",
    "math.sqrt(data.var())"
   ]
  },
  {
   "cell_type": "markdown",
   "metadata": {},
   "source": [
    "# 2.2 データと確立分布の対応関係をながめる"
   ]
  },
  {
   "cell_type": "code",
   "execution_count": 10,
   "metadata": {
    "collapsed": true
   },
   "outputs": [],
   "source": [
    "from scipy.stats import poisson"
   ]
  },
  {
   "cell_type": "code",
   "execution_count": 11,
   "metadata": {
    "collapsed": false
   },
   "outputs": [
    {
     "data": {
      "text/plain": [
       "(array(3.56), array(3.56))"
      ]
     },
     "execution_count": 11,
     "metadata": {},
     "output_type": "execute_result"
    }
   ],
   "source": [
    "poisson.stats(3.56)"
   ]
  },
  {
   "cell_type": "code",
   "execution_count": 12,
   "metadata": {
    "collapsed": false
   },
   "outputs": [],
   "source": [
    "y = [i for i in range(0, 10)]"
   ]
  },
  {
   "cell_type": "code",
   "execution_count": 13,
   "metadata": {
    "collapsed": false
   },
   "outputs": [],
   "source": [
    "prob = poisson.pmf(y, 3.56).tolist()"
   ]
  },
  {
   "cell_type": "code",
   "execution_count": 14,
   "metadata": {
    "collapsed": false
   },
   "outputs": [
    {
     "data": {
      "image/png": "[encoded data removed]",
      "text/plain": [
       "<matplotlib.figure.Figure at 0x10d9e49b0>"
      ]
     },
     "metadata": {},
     "output_type": "display_data"
    }
   ],
   "source": [
    "plt.plot(y, prob, marker='o', linestyle='dashed')\n",
    "plt.yticks([0.0, 0.10, 0.20])\n",
    "plt.xticks([0, 2, 4, 6, 8])\n",
    "plt.show()"
   ]
  },
  {
   "cell_type": "code",
   "execution_count": 15,
   "metadata": {
    "collapsed": false
   },
   "outputs": [
    {
     "data": {
      "image/png": "[encoded data removed]",
      "text/plain": [
       "<matplotlib.figure.Figure at 0x10a0fb278>"
      ]
     },
     "metadata": {},
     "output_type": "display_data"
    }
   ],
   "source": [
    "# 重ねてみる. 50倍して単位をあわせている感じだけどもっといい方法あるはず\n",
    "data.plot(kind='hist', bins=8, ec='black', align='mid')\n",
    "plt.plot(y, [i * 50 for i in prob], marker='o', linestyle='dashed')\n",
    "plt.show()"
   ]
  },
  {
   "cell_type": "markdown",
   "metadata": {},
   "source": [
    "# 2.3 ポアソン分布とは何か？\n",
    "\n",
    "俺も知りたい"
   ]
  },
  {
   "cell_type": "markdown",
   "metadata": {},
   "source": [
    "さっきのデータはなんでポアソン分布を選択したの？\n",
    "\n",
    "* データに含まれている値が{0, 1, 2 ...}といった非負の整数である（カウントデータである）\n",
    "* 値が下限（ゼロ）はあるみたいだけれど、上限はよくわからない\n",
    "* この観測データでは平均と分散が大体等しい"
   ]
  },
  {
   "cell_type": "code",
   "execution_count": 16,
   "metadata": {
    "collapsed": false
   },
   "outputs": [
    {
     "data": {
      "text/plain": [
       "[0.028438824714184505,\n",
       " 0.10124221598249684,\n",
       " 0.18021114444884434,\n",
       " 0.21385055807929532,\n",
       " 0.1903269966905728,\n",
       " 0.13551282164368783,\n",
       " 0.08040427417525478,\n",
       " 0.040891316580558154,\n",
       " 0.01819663587834836,\n",
       " 0.007197780414102244]"
      ]
     },
     "execution_count": 16,
     "metadata": {},
     "output_type": "execute_result"
    }
   ],
   "source": [
    "poisson.pmf(y, 3.56).tolist()"
   ]
  },
  {
   "cell_type": "code",
   "execution_count": 17,
   "metadata": {
    "collapsed": false
   },
   "outputs": [],
   "source": [
    "import numpy as np\n",
    "# ポワソン分布の実装\n",
    "def poission_pmf(_y, _lambda=3.56):\n",
    "    under = np.prod([i for i in range(1, _y + 1)])\n",
    "    return _lambda**_y * (math.e ** - _lambda) / under"
   ]
  },
  {
   "cell_type": "code",
   "execution_count": 18,
   "metadata": {
    "collapsed": false
   },
   "outputs": [
    {
     "name": "stdout",
     "output_type": "stream",
     "text": [
      "0.0284388247142\n",
      "0.101242215982\n",
      "0.180211144449\n",
      "0.213850558079\n",
      "0.190326996691\n",
      "0.135512821644\n",
      "0.0804042741753\n",
      "0.0408913165806\n",
      "0.0181966358783\n",
      "0.0071977804141\n"
     ]
    }
   ],
   "source": [
    "for i in range(0, 10):\n",
    "    print(poission_pmf(i, 3.56))"
   ]
  },
  {
   "cell_type": "markdown",
   "metadata": {},
   "source": [
    "# 2.4 ポアソン分布のパラメータの最尤推定"
   ]
  },
  {
   "cell_type": "code",
   "execution_count": 19,
   "metadata": {
    "collapsed": false
   },
   "outputs": [
    {
     "data": {
      "text/plain": [
       "range(1, 2)"
      ]
     },
     "execution_count": 19,
     "metadata": {},
     "output_type": "execute_result"
    }
   ],
   "source": [
    "range(1, data[0+1])"
   ]
  },
  {
   "cell_type": "code",
   "execution_count": 20,
   "metadata": {
    "collapsed": false
   },
   "outputs": [
    {
     "data": {
      "text/plain": [
       "0.0"
      ]
     },
     "execution_count": 20,
     "metadata": {},
     "output_type": "execute_result"
    }
   ],
   "source": [
    "np.sum([math.log(k) for k in range(1, data[i+1])])"
   ]
  },
  {
   "cell_type": "code",
   "execution_count": 21,
   "metadata": {
    "collapsed": false
   },
   "outputs": [
    {
     "data": {
      "text/plain": [
       "0.0"
      ]
     },
     "execution_count": 21,
     "metadata": {},
     "output_type": "execute_result"
    }
   ],
   "source": [
    "np.sum([i for i in range(1, 0)])"
   ]
  },
  {
   "cell_type": "code",
   "execution_count": 22,
   "metadata": {
    "collapsed": false
   },
   "outputs": [],
   "source": [
    "# 対数尤度関数\n",
    "_lambda = 2.0\n",
    "def log_l(data, _lambda):\n",
    "    def func(_data, _lambda):\n",
    "        return _data * math.log(_lambda) - _lambda - np.sum([math.log(k) for k in range(1, _data+1)])\n",
    "    return np.sum([func(_data, _lambda) for _data in data])"
   ]
  },
  {
   "cell_type": "code",
   "execution_count": 23,
   "metadata": {
    "collapsed": false
   },
   "outputs": [
    {
     "name": "stdout",
     "output_type": "stream",
     "text": [
      "2.0:-121.9\n",
      "2.1:-118.2\n",
      "2.2:-114.9\n",
      "2.3:-112.0\n",
      "2.4:-109.4\n",
      "2.5:-107.2\n",
      "2.6:-105.2\n",
      "2.7:-103.5\n",
      "2.8:-102.0\n",
      "2.9:-100.7\n",
      "3.0:-99.7\n",
      "3.1:-98.9\n",
      "3.2:-98.2\n",
      "3.3:-97.7\n",
      "3.4:-97.4\n",
      "3.5:-97.3\n",
      "3.6:-97.3\n",
      "3.7:-97.4\n",
      "3.8:-97.6\n",
      "3.9:-98.0\n",
      "4.0:-98.5\n",
      "4.1:-99.1\n",
      "4.2:-99.8\n",
      "4.3:-100.6\n",
      "4.4:-101.5\n",
      "4.5:-102.5\n",
      "4.6:-103.6\n",
      "4.7:-104.8\n",
      "4.8:-106.0\n",
      "4.9:-107.4\n",
      "5.0:-108.8\n",
      "5.1:-110.3\n",
      "5.2:-111.8\n",
      "5.3:-113.4\n",
      "5.4:-115.1\n",
      "5.5:-116.8\n",
      "5.6:-118.6\n",
      "5.7:-120.5\n",
      "5.8:-122.4\n",
      "5.9:-124.3\n"
     ]
    }
   ],
   "source": [
    "for _lambda in np.arange(2, 6, 0.1):\n",
    "    print('{:.1f}:{:.1f}'.format(_lambda, log_l(data, _lambda)))"
   ]
  },
  {
   "cell_type": "code",
   "execution_count": 24,
   "metadata": {
    "collapsed": false
   },
   "outputs": [
    {
     "data": {
      "text/plain": [
       "[<matplotlib.lines.Line2D at 0x10da96710>]"
      ]
     },
     "execution_count": 24,
     "metadata": {},
     "output_type": "execute_result"
    },
    {
     "data": {
      "image/png": "[encoded data removed]",
      "text/plain": [
       "<matplotlib.figure.Figure at 0x10da25da0>"
      ]
     },
     "metadata": {},
     "output_type": "display_data"
    }
   ],
   "source": [
    "__lambda = np.arange(2, 6, 0.01)\n",
    "log_l_r = [log_l(data, _lambda) for _lambda in __lambda]\n",
    "plt.plot(__lambda, log_l_r)"
   ]
  },
  {
   "cell_type": "code",
   "execution_count": 25,
   "metadata": {
    "collapsed": false
   },
   "outputs": [
    {
     "data": {
      "text/plain": [
       "156"
      ]
     },
     "execution_count": 25,
     "metadata": {},
     "output_type": "execute_result"
    }
   ],
   "source": [
    "np.argmax(log_l_r)"
   ]
  },
  {
   "cell_type": "code",
   "execution_count": 26,
   "metadata": {
    "collapsed": false
   },
   "outputs": [
    {
     "data": {
      "text/plain": [
       "3.5599999999999667"
      ]
     },
     "execution_count": 26,
     "metadata": {},
     "output_type": "execute_result"
    }
   ],
   "source": [
    "__lambda[156]"
   ]
  },
  {
   "cell_type": "markdown",
   "metadata": {
    "collapsed": true
   },
   "source": [
    "### 2.4.1 擬似乱数と最尤推定値のばらつき\n",
    "\n",
    "*　標準誤差(standard error, SE)"
   ]
  },
  {
   "cell_type": "code",
   "execution_count": 48,
   "metadata": {
    "collapsed": false
   },
   "outputs": [],
   "source": [
    "import numpy as np\n",
    "\n",
    "def rpois(n, size, lamb):\n",
    "    data = []\n",
    "    for _ in range(n):\n",
    "        data.append(np.random.poisson(lamb, size))\n",
    "    return np.asarray(data)"
   ]
  },
  {
   "cell_type": "code",
   "execution_count": 52,
   "metadata": {
    "collapsed": false
   },
   "outputs": [
    {
     "data": {
      "text/plain": [
       "(array([  1.,   1.,   2.,  11.,   6.,  11.,   8.,   3.,   5.,   2.]),\n",
       " array([ 2.84 ,  2.958,  3.076,  3.194,  3.312,  3.43 ,  3.548,  3.666,\n",
       "         3.784,  3.902,  4.02 ]),\n",
       " <a list of 10 Patch objects>)"
      ]
     },
     "execution_count": 52,
     "metadata": {},
     "output_type": "execute_result"
    },
    {
     "data": {
      "image/png": "[encoded data removed]",
      "text/plain": [
       "<matplotlib.figure.Figure at 0x10dabd978>"
      ]
     },
     "metadata": {},
     "output_type": "display_data"
    }
   ],
   "source": [
    "plt.hist(rpois(50, 50, 3.5).mean(axis=1))"
   ]
  },
  {
   "cell_type": "code",
   "execution_count": 53,
   "metadata": {
    "collapsed": false
   },
   "outputs": [
    {
     "data": {
      "text/plain": [
       "(array([   23.,   184.,   908.,  2091.,  2688.,  2393.,  1238.,   388.,\n",
       "           76.,    11.]),\n",
       " array([ 2.58 ,  2.776,  2.972,  3.168,  3.364,  3.56 ,  3.756,  3.952,\n",
       "         4.148,  4.344,  4.54 ]),\n",
       " <a list of 10 Patch objects>)"
      ]
     },
     "execution_count": 53,
     "metadata": {},
     "output_type": "execute_result"
    },
    {
     "data": {
      "image/png": "[encoded data removed]",
      "text/plain": [
       "<matplotlib.figure.Figure at 0x10e7b3320>"
      ]
     },
     "metadata": {},
     "output_type": "display_data"
    }
   ],
   "source": [
    "plt.hist(rpois(10000, 50, 3.5).mean(axis=1))"
   ]
  },
  {
   "cell_type": "code",
   "execution_count": 54,
   "metadata": {
    "collapsed": false
   },
   "outputs": [
    {
     "data": {
      "text/plain": [
       "(array([   18.,   110.,   523.,  1006.,  1429.,  1055.,   633.,   176.,\n",
       "           48.,     2.]),\n",
       " array([ 2.62,  2.81,  3.  ,  3.19,  3.38,  3.57,  3.76,  3.95,  4.14,\n",
       "         4.33,  4.52]),\n",
       " <a list of 10 Patch objects>)"
      ]
     },
     "execution_count": 54,
     "metadata": {},
     "output_type": "execute_result"
    },
    {
     "data": {
      "image/png": "[encoded data removed]",
      "text/plain": [
       "<matplotlib.figure.Figure at 0x10ea65978>"
      ]
     },
     "metadata": {},
     "output_type": "display_data"
    }
   ],
   "source": [
    "plt.hist(rpois(5000, 50, 3.5).mean(axis=1))"
   ]
  },
  {
   "cell_type": "code",
   "execution_count": 55,
   "metadata": {
    "collapsed": false
   },
   "outputs": [
    {
     "data": {
      "text/plain": [
       "(array([  10.,   44.,  139.,  315.,  273.,  169.,   44.,    5.,    0.,    1.]),\n",
       " array([ 2.66 ,  2.872,  3.084,  3.296,  3.508,  3.72 ,  3.932,  4.144,\n",
       "         4.356,  4.568,  4.78 ]),\n",
       " <a list of 10 Patch objects>)"
      ]
     },
     "execution_count": 55,
     "metadata": {},
     "output_type": "execute_result"
    },
    {
     "data": {
      "image/png": "[encoded data removed]",
      "text/plain": [
       "<matplotlib.figure.Figure at 0x10eae6080>"
      ]
     },
     "metadata": {},
     "output_type": "display_data"
    }
   ],
   "source": [
    "plt.hist(rpois(1000, 50, 3.5).mean(axis=1))"
   ]
  },
  {
   "cell_type": "code",
   "execution_count": 64,
   "metadata": {
    "collapsed": false
   },
   "outputs": [
    {
     "data": {
      "text/plain": [
       "(array([  4.,   8.,  11.,  14.,  19.,  17.,  14.,   5.,   5.,   3.]),\n",
       " array([ 2.82 ,  2.962,  3.104,  3.246,  3.388,  3.53 ,  3.672,  3.814,\n",
       "         3.956,  4.098,  4.24 ]),\n",
       " <a list of 10 Patch objects>)"
      ]
     },
     "execution_count": 64,
     "metadata": {},
     "output_type": "execute_result"
    },
    {
     "data": {
      "image/png": "[encoded data removed]",
      "text/plain": [
       "<matplotlib.figure.Figure at 0x10f6bc550>"
      ]
     },
     "metadata": {},
     "output_type": "display_data"
    }
   ],
   "source": [
    "plt.hist(rpois(100, 50, 3.5).mean(axis=1))"
   ]
  },
  {
   "cell_type": "code",
   "execution_count": 71,
   "metadata": {
    "collapsed": false
   },
   "outputs": [
    {
     "data": {
      "text/plain": [
       "(array([    7.,    96.,   430.,  1675.,  2556.,  2653.,  1801.,   579.,\n",
       "          178.,    25.]),\n",
       " array([ 1.26 ,  1.406,  1.552,  1.698,  1.844,  1.99 ,  2.136,  2.282,\n",
       "         2.428,  2.574,  2.72 ]),\n",
       " <a list of 10 Patch objects>)"
      ]
     },
     "execution_count": 71,
     "metadata": {},
     "output_type": "execute_result"
    },
    {
     "data": {
      "image/png": "[encoded data removed]",
      "text/plain": [
       "<matplotlib.figure.Figure at 0x1105cc1d0>"
      ]
     },
     "metadata": {},
     "output_type": "display_data"
    }
   ],
   "source": [
    "plt.hist(rpois(10000, 50, 2.0).mean(axis=1))"
   ]
  },
  {
   "cell_type": "markdown",
   "metadata": {},
   "source": [
    "確率分布の選び方\n",
    "\n",
    "* 説明したい量は離散か連続か？\n",
    "* 説明したい量の範囲は？\n",
    "* 説明したい量の標本分散と標本平均の関係は？"
   ]
  },
  {
   "cell_type": "markdown",
   "metadata": {},
   "source": [
    "* ポアソン分布: データが離散値、ゼロ以上の範囲、上限とくになし、平均≒分散\n",
    "* 二項分布: データが離散値、ゼロ以上で有限の範囲、分散は平均の関数?"
   ]
  },
  {
   "cell_type": "code",
   "execution_count": null,
   "metadata": {
    "collapsed": true
   },
   "outputs": [],
   "source": []
  }
 ],
 "metadata": {
  "kernelspec": {
   "display_name": "Python 3",
   "language": "python",
   "name": "python3"
  },
  "language_info": {
   "codemirror_mode": {
    "name": "ipython",
    "version": 3
   },
   "file_extension": ".py",
   "mimetype": "text/x-python",
   "name": "python",
   "nbconvert_exporter": "python",
   "pygments_lexer": "ipython3",
   "version": "3.4.5"
  }
 },
 "nbformat": 4,
 "nbformat_minor": 0
}
