{
 "cells": [
  {
   "cell_type": "markdown",
   "metadata": {},
   "source": [
    "# 3.2 観測されたデータの概要を調べる"
   ]
  },
  {
   "cell_type": "code",
   "execution_count": 2,
   "metadata": {
    "collapsed": true
   },
   "outputs": [],
   "source": [
    "import pandas as pd\n",
    "import numpy as np\n",
    "import matplotlib.pyplot as plt\n",
    "\n",
    "%matplotlib inline"
   ]
  },
  {
   "cell_type": "code",
   "execution_count": 3,
   "metadata": {
    "collapsed": true
   },
   "outputs": [],
   "source": [
    "df = pd.read_csv('./data3a.csv')"
   ]
  },
  {
   "cell_type": "code",
   "execution_count": 4,
   "metadata": {
    "collapsed": false
   },
   "outputs": [
    {
     "data": {
      "text/html": [
       "<div>\n",
       "<table border=\"1\" class=\"dataframe\">\n",
       "  <thead>\n",
       "    <tr style=\"text-align: right;\">\n",
       "      <th></th>\n",
       "      <th>y</th>\n",
       "      <th>x</th>\n",
       "      <th>f</th>\n",
       "    </tr>\n",
       "  </thead>\n",
       "  <tbody>\n",
       "    <tr>\n",
       "      <th>0</th>\n",
       "      <td>6</td>\n",
       "      <td>8.31</td>\n",
       "      <td>C</td>\n",
       "    </tr>\n",
       "    <tr>\n",
       "      <th>1</th>\n",
       "      <td>6</td>\n",
       "      <td>9.44</td>\n",
       "      <td>C</td>\n",
       "    </tr>\n",
       "    <tr>\n",
       "      <th>2</th>\n",
       "      <td>6</td>\n",
       "      <td>9.50</td>\n",
       "      <td>C</td>\n",
       "    </tr>\n",
       "    <tr>\n",
       "      <th>3</th>\n",
       "      <td>12</td>\n",
       "      <td>9.07</td>\n",
       "      <td>C</td>\n",
       "    </tr>\n",
       "    <tr>\n",
       "      <th>4</th>\n",
       "      <td>10</td>\n",
       "      <td>10.16</td>\n",
       "      <td>C</td>\n",
       "    </tr>\n",
       "  </tbody>\n",
       "</table>\n",
       "</div>"
      ],
      "text/plain": [
       "    y      x  f\n",
       "0   6   8.31  C\n",
       "1   6   9.44  C\n",
       "2   6   9.50  C\n",
       "3  12   9.07  C\n",
       "4  10  10.16  C"
      ]
     },
     "execution_count": 4,
     "metadata": {},
     "output_type": "execute_result"
    }
   ],
   "source": [
    "df.head()"
   ]
  },
  {
   "cell_type": "code",
   "execution_count": 6,
   "metadata": {
    "collapsed": false
   },
   "outputs": [
    {
     "data": {
      "text/plain": [
       "0      6\n",
       "1      6\n",
       "2      6\n",
       "3     12\n",
       "4     10\n",
       "5      4\n",
       "6      9\n",
       "7      9\n",
       "8      9\n",
       "9     11\n",
       "10     6\n",
       "11    10\n",
       "12     6\n",
       "13    10\n",
       "14    11\n",
       "15     8\n",
       "16     3\n",
       "17     8\n",
       "18     5\n",
       "19     5\n",
       "20     4\n",
       "21    11\n",
       "22     5\n",
       "23    10\n",
       "24     6\n",
       "25     6\n",
       "26     7\n",
       "27     9\n",
       "28     3\n",
       "29    10\n",
       "      ..\n",
       "70    10\n",
       "71     8\n",
       "72     8\n",
       "73     7\n",
       "74     5\n",
       "75     6\n",
       "76     8\n",
       "77     9\n",
       "78     9\n",
       "79     6\n",
       "80     7\n",
       "81    10\n",
       "82     6\n",
       "83    11\n",
       "84    11\n",
       "85    11\n",
       "86     5\n",
       "87     6\n",
       "88     4\n",
       "89     5\n",
       "90     6\n",
       "91     5\n",
       "92     8\n",
       "93     5\n",
       "94     9\n",
       "95     8\n",
       "96     6\n",
       "97     8\n",
       "98     7\n",
       "99     9\n",
       "Name: y, dtype: int64"
      ]
     },
     "execution_count": 6,
     "metadata": {},
     "output_type": "execute_result"
    }
   ],
   "source": [
    "df.y"
   ]
  },
  {
   "cell_type": "code",
   "execution_count": 7,
   "metadata": {
    "collapsed": false
   },
   "outputs": [
    {
     "data": {
      "text/plain": [
       "0      8.31\n",
       "1      9.44\n",
       "2      9.50\n",
       "3      9.07\n",
       "4     10.16\n",
       "5      8.32\n",
       "6     10.61\n",
       "7     10.06\n",
       "8      9.93\n",
       "9     10.43\n",
       "10    10.36\n",
       "11    10.15\n",
       "12    10.92\n",
       "13     8.85\n",
       "14     9.42\n",
       "15    11.11\n",
       "16     8.02\n",
       "17    11.93\n",
       "18     8.55\n",
       "19     7.19\n",
       "20     9.83\n",
       "21    10.79\n",
       "22     8.89\n",
       "23    10.09\n",
       "24    11.63\n",
       "25    10.21\n",
       "26     9.45\n",
       "27    10.44\n",
       "28     9.44\n",
       "29    10.48\n",
       "      ...  \n",
       "70    10.54\n",
       "71    11.30\n",
       "72    12.40\n",
       "73    10.18\n",
       "74     9.53\n",
       "75    10.24\n",
       "76    11.76\n",
       "77     9.52\n",
       "78    10.40\n",
       "79     9.96\n",
       "80    10.30\n",
       "81    11.54\n",
       "82     9.42\n",
       "83    11.28\n",
       "84     9.73\n",
       "85    10.78\n",
       "86    10.21\n",
       "87    10.51\n",
       "88    10.73\n",
       "89     8.85\n",
       "90    11.20\n",
       "91     9.86\n",
       "92    11.54\n",
       "93    10.03\n",
       "94    11.88\n",
       "95     9.15\n",
       "96     8.52\n",
       "97    10.24\n",
       "98    10.86\n",
       "99     9.97\n",
       "Name: x, dtype: float64"
      ]
     },
     "execution_count": 7,
     "metadata": {},
     "output_type": "execute_result"
    }
   ],
   "source": [
    "df.x"
   ]
  },
  {
   "cell_type": "code",
   "execution_count": 8,
   "metadata": {
    "collapsed": false
   },
   "outputs": [
    {
     "data": {
      "text/plain": [
       "0     C\n",
       "1     C\n",
       "2     C\n",
       "3     C\n",
       "4     C\n",
       "5     C\n",
       "6     C\n",
       "7     C\n",
       "8     C\n",
       "9     C\n",
       "10    C\n",
       "11    C\n",
       "12    C\n",
       "13    C\n",
       "14    C\n",
       "15    C\n",
       "16    C\n",
       "17    C\n",
       "18    C\n",
       "19    C\n",
       "20    C\n",
       "21    C\n",
       "22    C\n",
       "23    C\n",
       "24    C\n",
       "25    C\n",
       "26    C\n",
       "27    C\n",
       "28    C\n",
       "29    C\n",
       "     ..\n",
       "70    T\n",
       "71    T\n",
       "72    T\n",
       "73    T\n",
       "74    T\n",
       "75    T\n",
       "76    T\n",
       "77    T\n",
       "78    T\n",
       "79    T\n",
       "80    T\n",
       "81    T\n",
       "82    T\n",
       "83    T\n",
       "84    T\n",
       "85    T\n",
       "86    T\n",
       "87    T\n",
       "88    T\n",
       "89    T\n",
       "90    T\n",
       "91    T\n",
       "92    T\n",
       "93    T\n",
       "94    T\n",
       "95    T\n",
       "96    T\n",
       "97    T\n",
       "98    T\n",
       "99    T\n",
       "Name: f, dtype: object"
      ]
     },
     "execution_count": 8,
     "metadata": {},
     "output_type": "execute_result"
    }
   ],
   "source": [
    "df.f"
   ]
  },
  {
   "cell_type": "code",
   "execution_count": 9,
   "metadata": {
    "collapsed": false
   },
   "outputs": [
    {
     "data": {
      "text/html": [
       "<div>\n",
       "<table border=\"1\" class=\"dataframe\">\n",
       "  <thead>\n",
       "    <tr style=\"text-align: right;\">\n",
       "      <th></th>\n",
       "      <th>y</th>\n",
       "      <th>x</th>\n",
       "    </tr>\n",
       "  </thead>\n",
       "  <tbody>\n",
       "    <tr>\n",
       "      <th>count</th>\n",
       "      <td>100.000000</td>\n",
       "      <td>100.000000</td>\n",
       "    </tr>\n",
       "    <tr>\n",
       "      <th>mean</th>\n",
       "      <td>7.830000</td>\n",
       "      <td>10.089100</td>\n",
       "    </tr>\n",
       "    <tr>\n",
       "      <th>std</th>\n",
       "      <td>2.624881</td>\n",
       "      <td>1.008049</td>\n",
       "    </tr>\n",
       "    <tr>\n",
       "      <th>min</th>\n",
       "      <td>2.000000</td>\n",
       "      <td>7.190000</td>\n",
       "    </tr>\n",
       "    <tr>\n",
       "      <th>25%</th>\n",
       "      <td>6.000000</td>\n",
       "      <td>9.427500</td>\n",
       "    </tr>\n",
       "    <tr>\n",
       "      <th>50%</th>\n",
       "      <td>8.000000</td>\n",
       "      <td>10.155000</td>\n",
       "    </tr>\n",
       "    <tr>\n",
       "      <th>75%</th>\n",
       "      <td>10.000000</td>\n",
       "      <td>10.685000</td>\n",
       "    </tr>\n",
       "    <tr>\n",
       "      <th>max</th>\n",
       "      <td>15.000000</td>\n",
       "      <td>12.400000</td>\n",
       "    </tr>\n",
       "  </tbody>\n",
       "</table>\n",
       "</div>"
      ],
      "text/plain": [
       "                y           x\n",
       "count  100.000000  100.000000\n",
       "mean     7.830000   10.089100\n",
       "std      2.624881    1.008049\n",
       "min      2.000000    7.190000\n",
       "25%      6.000000    9.427500\n",
       "50%      8.000000   10.155000\n",
       "75%     10.000000   10.685000\n",
       "max     15.000000   12.400000"
      ]
     },
     "execution_count": 9,
     "metadata": {},
     "output_type": "execute_result"
    }
   ],
   "source": [
    "df.describe()"
   ]
  },
  {
   "cell_type": "code",
   "execution_count": 26,
   "metadata": {
    "collapsed": false
   },
   "outputs": [
    {
     "data": {
      "text/plain": [
       "<matplotlib.axes._subplots.AxesSubplot at 0x10c2280f0>"
      ]
     },
     "execution_count": 26,
     "metadata": {},
     "output_type": "execute_result"
    },
    {
     "data": {
      "image/png": "[encoded data removed]",
      "text/plain": [
       "<matplotlib.figure.Figure at 0x10b770d68>"
      ]
     },
     "metadata": {},
     "output_type": "display_data"
    }
   ],
   "source": [
    "fig, ax = plt.subplots()\n",
    "df[df['f'] == 'C'] .plot(kind='scatter', x='x', y='y', color='red', ax=ax, label='C')\n",
    "df[df['f'] == 'T'] .plot(kind='scatter', x='x', y='y', color='blue', ax=ax, label='T')"
   ]
  },
  {
   "cell_type": "code",
   "execution_count": 97,
   "metadata": {
    "collapsed": false
   },
   "outputs": [
    {
     "data": {
      "text/plain": [
       "<matplotlib.axes._subplots.AxesSubplot at 0x10f2cbc50>"
      ]
     },
     "execution_count": 97,
     "metadata": {},
     "output_type": "execute_result"
    },
    {
     "data": {
      "image/png": "[encoded data removed]",
      "text/plain": [
       "<matplotlib.figure.Figure at 0x1107430f0>"
      ]
     },
     "metadata": {},
     "output_type": "display_data"
    }
   ],
   "source": [
    "# なんかめっちゃ時間かかったけどこれが正解っぽい？\n",
    "df.boxplot(column='y', by='f')"
   ]
  },
  {
   "cell_type": "code",
   "execution_count": null,
   "metadata": {
    "collapsed": true
   },
   "outputs": [],
   "source": []
  }
 ],
 "metadata": {
  "kernelspec": {
   "display_name": "Python 3",
   "language": "python",
   "name": "python3"
  },
  "language_info": {
   "codemirror_mode": {
    "name": "ipython",
    "version": 3
   },
   "file_extension": ".py",
   "mimetype": "text/x-python",
   "name": "python",
   "nbconvert_exporter": "python",
   "pygments_lexer": "ipython3",
   "version": "3.4.5"
  }
 },
 "nbformat": 4,
 "nbformat_minor": 0
}
